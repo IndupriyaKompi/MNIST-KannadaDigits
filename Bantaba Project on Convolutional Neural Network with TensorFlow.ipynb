{
 "cells": [
  {
   "cell_type": "markdown",
   "metadata": {
    "colab_type": "text",
    "id": "YfUPnIAYCipF"
   },
   "source": [
    "# INFO 7390\n",
    "# Advances in Data Science and Architecture"
   ]
  },
  {
   "cell_type": "markdown",
   "metadata": {},
   "source": [
    "# Bantaba Project on Convolutional Neural Network Using TensorFlow\n",
    "\n",
    "![title](images/dl1.jpg)"
   ]
  },
  {
   "cell_type": "markdown",
   "metadata": {
    "colab_type": "text",
    "id": "wWA_iB3zCipI"
   },
   "source": [
    "# 1. Abstract\n",
    "The focus of the project is to understand Convolutional Neural Network(CNN) as a beginner. A very easy way to explain and interpret a CNN is using classification model. In this project, we will be learning how CNN classifies Kannada digits, from 1 through 9\n",
    "\n",
    "This is a 5 layers Sequential Convolutional Neural Network for digits recognition trained on Kannada digits dataset. I have chosen to build it with keras API (Tensorflow backend) which is very intuitive. To ensure the model did not overfit, we used Keras callbacks\n",
    "\n",
    "# 2. Table of Contents \n",
    "\n",
    "\n",
    "1. Abstract\n",
    "\n",
    "\n",
    "2. Table of Contents\n",
    "\n",
    "\n",
    "3. Acknowledgement\n",
    "\n",
    "\n",
    "4. Introduction\n",
    "\n",
    "\n",
    "5. Running the Notebook\n",
    "\n",
    "\n",
    "6. Importing packages and collecting data\n",
    "\n",
    "\n",
    "7. Data Description and preparation\n",
    "\n",
    "\n",
    "    7.1 Checking the Target Distribution\n",
    "\n",
    "\n",
    "8. Data pre-processing\n",
    "\n",
    "    8.1 Image Normalization\n",
    "\n",
    "    8.2 Reshaping the images\n",
    "\n",
    "    8.3 Splitting training and Validation Set\n",
    "\n",
    "    8.4 Label Encoding target variables\n",
    "    \n",
    "    8.5 Data Augmentation\n",
    "\n",
    "\n",
    "9. Building the Neural Network\n",
    "\n",
    "    9.1 Defining and Outlining the model\n",
    "\n",
    "    9.2 Complie and Traine the model\n",
    "\n",
    "    9.3 Visualizing the Accuracy and Loss\n",
    "\n",
    "    9.4 Prediction\n",
    "        \n",
    "        9.4.1 Evaluating Some Wrong Predictions\n",
    "        \n",
    "        9.4.2 Evaluating Right Predictions\n",
    "\n",
    "\n",
    "10. Conclusion\n",
    "\n",
    "\n",
    "11. Citation\n",
    "\n",
    "\n",
    "12. Licensing"
   ]
  },
  {
   "cell_type": "markdown",
   "metadata": {
    "colab_type": "text",
    "id": "dsXSlTleCipI"
   },
   "source": [
    "# 3. Acknowledgment\n",
    "\n",
    "I acknowledge that the kannada_MNIST dataset was taken from https://www.kaggle.com/c/Kannada-MNIST/overview/description and was created and provided by Vinay Uday Prabhu\n",
    "\n",
    "https://arxiv.org/abs/1908.01242\n",
    "\n",
    "https://vinayprabhu.github.io/"
   ]
  },
  {
   "cell_type": "markdown",
   "metadata": {
    "colab_type": "text",
    "id": "iaaZKMUpCipJ"
   },
   "source": [
    "# 4. Introduction\n",
    "\n",
    "![title](images/KannadaNumbers.png)\n",
    "\n",
    "There are hundreds of thousand languages world wide. Some have scripts, some don't. **Kannada** is one of the oldest languages that originated in **South India** and is still spoken by majority of the people espicially in **Karnataka**. I am a kannadiga and I can speak, read and write kannada. \n",
    "\n",
    "The main focus of the project is to write a chapter on CNN that could be read and understood easily; especially for a beginner.\n",
    "The sole purpose for having chosen this data set is because it is easier to understand the operation of CNNs through MNIST datasets. \n",
    "\n",
    "The dataset has 3 parts namely, train,test and Dig-MNIST. Dig-MNIST is a real world handwritten dataset (with 10k images), that can serve as an out-of-domain test dataset.\n"
   ]
  },
  {
   "cell_type": "markdown",
   "metadata": {
    "colab_type": "text",
    "id": "hETQUw_qCipK"
   },
   "source": [
    "# 5. Running the Notebook\n",
    "\n",
    "This file was ran on **Google CoLab** with runtime set to **GPU**. For all who don't what a google colab is, here is a breif inroduction- Google Colab is a free cloud service and now it supports free GPU! You can; improve your Python programming language coding skills. develop deep learning applications using popular libraries such as Keras, TensorFlow, PyTorch, and OpenCV.\n",
    "\n",
    "1. Open **google colab** Jupyter Notebook\n",
    "2. **Rename** the file\n",
    "3. Set the runtime to **GPU** [Runtime>change runtime type>hardware accelerator>GPU]\n",
    "4. To the right side of the page, there is an option to upload files from the local system. Click on upload button and upload the zip file\n",
    "5. Run the file"
   ]
  },
  {
   "cell_type": "markdown",
   "metadata": {
    "colab_type": "text",
    "id": "_XsntiQlCipL"
   },
   "source": [
    "# 6. Importing packages and collecting data\n",
    "\n",
    "### We will mainly use 4 libraries.\n",
    "\n",
    "pandas and numpy : It's used to handle our csv files.\n",
    "\n",
    "matplotlib & seaborn : Used for charting and plotting.\n",
    "\n",
    "sklearn : Popular ML library.We will use it for splitting our data.\n",
    "\n",
    "Keras : Popular Deep learning library,we will use it to build our CNN Network."
   ]
  },
  {
   "cell_type": "code",
   "execution_count": 0,
   "metadata": {
    "colab": {},
    "colab_type": "code",
    "id": "UIdEItWlCipM"
   },
   "outputs": [],
   "source": [
    "'''Importing Data Manipulattion Moduls'''\n",
    "import numpy as np\n",
    "import pandas as pd\n",
    "\n",
    "'''Seaborn and Matplotlib Visualization'''\n",
    "import matplotlib.pyplot as plt\n",
    "import seaborn as sns\n",
    "%matplotlib inline\n",
    "\n",
    "'''Importing preprocessing libraries'''\n",
    "from sklearn.model_selection import train_test_split\n",
    "from sklearn.metrics import confusion_matrix\n",
    "\n",
    "from zipfile import ZipFile\n",
    "file_name = \"Kannada-MNIST.zip\"\n",
    "\n",
    "import os\n",
    "import cv2\n",
    "\n",
    "'''Display markdown formatted output like bold, italic bold etc.'''\n",
    "from IPython.display import Markdown\n",
    "def bold(string):\n",
    "    display(Markdown(string))"
   ]
  },
  {
   "cell_type": "code",
   "execution_count": 10,
   "metadata": {
    "colab": {
     "base_uri": "https://localhost:8080/",
     "height": 34
    },
    "colab_type": "code",
    "id": "8x_G7IE-CipR",
    "outputId": "dbec4077-c783-4f64-9c17-1f42a91cfae9"
   },
   "outputs": [
    {
     "name": "stdout",
     "output_type": "stream",
     "text": [
      "2.2.0-rc3\n"
     ]
    }
   ],
   "source": [
    "import tensorflow as tf \n",
    "print(tf.__version__)\n",
    "\n",
    "from tensorflow.keras import layers, models\n",
    "from keras.models import Sequential\n",
    "from keras.preprocessing.image import ImageDataGenerator\n",
    "from keras.utils import to_categorical\n",
    "from keras.layers import Dense,Conv2D,Flatten,MaxPooling2D,Dropout,BatchNormalization\n",
    "from keras.optimizers import Adam\n",
    "from keras.callbacks import ReduceLROnPlateau\n",
    "from keras.callbacks import EarlyStopping, ModelCheckpoint"
   ]
  },
  {
   "cell_type": "code",
   "execution_count": 11,
   "metadata": {
    "colab": {
     "base_uri": "https://localhost:8080/",
     "height": 34
    },
    "colab_type": "code",
    "id": "stweFPGuFy5j",
    "outputId": "15d83a8e-98ad-4d2b-96e5-95c3cfc680d4"
   },
   "outputs": [
    {
     "name": "stdout",
     "output_type": "stream",
     "text": [
      "Done\n"
     ]
    }
   ],
   "source": [
    "with ZipFile(file_name,'r') as zip:\n",
    "  zip.extractall()\n",
    "  print('Done')"
   ]
  },
  {
   "cell_type": "code",
   "execution_count": 0,
   "metadata": {
    "colab": {},
    "colab_type": "code",
    "id": "aP6vKx09G3Rs"
   },
   "outputs": [],
   "source": [
    "train_kannadaMnist = pd.read_csv(\"train.csv\")\n",
    "test_kannadaMnist = pd.read_csv(\"test.csv\")\n",
    "dig_kannadaMnist = pd.read_csv(\"Dig-MNIST.csv\")"
   ]
  },
  {
   "cell_type": "markdown",
   "metadata": {
    "colab_type": "text",
    "id": "IuQqGTMvCipa"
   },
   "source": [
    "# 7. Data Description and Preparation"
   ]
  },
  {
   "cell_type": "code",
   "execution_count": 21,
   "metadata": {
    "colab": {
     "base_uri": "https://localhost:8080/",
     "height": 379
    },
    "colab_type": "code",
    "id": "pFtTqYXZCipb",
    "outputId": "abaec34a-97b5-4803-c313-d00073dcbf92"
   },
   "outputs": [
    {
     "data": {
      "text/markdown": [
       "**Preview of Train Data:**"
      ],
      "text/plain": [
       "<IPython.core.display.Markdown object>"
      ]
     },
     "metadata": {
      "tags": []
     },
     "output_type": "display_data"
    },
    {
     "data": {
      "text/html": [
       "<div>\n",
       "<style scoped>\n",
       "    .dataframe tbody tr th:only-of-type {\n",
       "        vertical-align: middle;\n",
       "    }\n",
       "\n",
       "    .dataframe tbody tr th {\n",
       "        vertical-align: top;\n",
       "    }\n",
       "\n",
       "    .dataframe thead th {\n",
       "        text-align: right;\n",
       "    }\n",
       "</style>\n",
       "<table border=\"1\" class=\"dataframe\">\n",
       "  <thead>\n",
       "    <tr style=\"text-align: right;\">\n",
       "      <th></th>\n",
       "      <th>label</th>\n",
       "      <th>pixel0</th>\n",
       "      <th>pixel1</th>\n",
       "      <th>pixel2</th>\n",
       "      <th>pixel3</th>\n",
       "      <th>pixel4</th>\n",
       "      <th>pixel5</th>\n",
       "      <th>pixel6</th>\n",
       "      <th>pixel7</th>\n",
       "      <th>pixel8</th>\n",
       "      <th>pixel9</th>\n",
       "      <th>pixel10</th>\n",
       "      <th>pixel11</th>\n",
       "      <th>pixel12</th>\n",
       "      <th>pixel13</th>\n",
       "      <th>pixel14</th>\n",
       "      <th>pixel15</th>\n",
       "      <th>pixel16</th>\n",
       "      <th>pixel17</th>\n",
       "      <th>pixel18</th>\n",
       "      <th>pixel19</th>\n",
       "      <th>pixel20</th>\n",
       "      <th>pixel21</th>\n",
       "      <th>pixel22</th>\n",
       "      <th>pixel23</th>\n",
       "      <th>pixel24</th>\n",
       "      <th>pixel25</th>\n",
       "      <th>pixel26</th>\n",
       "      <th>pixel27</th>\n",
       "      <th>pixel28</th>\n",
       "      <th>pixel29</th>\n",
       "      <th>pixel30</th>\n",
       "      <th>pixel31</th>\n",
       "      <th>pixel32</th>\n",
       "      <th>pixel33</th>\n",
       "      <th>pixel34</th>\n",
       "      <th>pixel35</th>\n",
       "      <th>pixel36</th>\n",
       "      <th>pixel37</th>\n",
       "      <th>pixel38</th>\n",
       "      <th>...</th>\n",
       "      <th>pixel744</th>\n",
       "      <th>pixel745</th>\n",
       "      <th>pixel746</th>\n",
       "      <th>pixel747</th>\n",
       "      <th>pixel748</th>\n",
       "      <th>pixel749</th>\n",
       "      <th>pixel750</th>\n",
       "      <th>pixel751</th>\n",
       "      <th>pixel752</th>\n",
       "      <th>pixel753</th>\n",
       "      <th>pixel754</th>\n",
       "      <th>pixel755</th>\n",
       "      <th>pixel756</th>\n",
       "      <th>pixel757</th>\n",
       "      <th>pixel758</th>\n",
       "      <th>pixel759</th>\n",
       "      <th>pixel760</th>\n",
       "      <th>pixel761</th>\n",
       "      <th>pixel762</th>\n",
       "      <th>pixel763</th>\n",
       "      <th>pixel764</th>\n",
       "      <th>pixel765</th>\n",
       "      <th>pixel766</th>\n",
       "      <th>pixel767</th>\n",
       "      <th>pixel768</th>\n",
       "      <th>pixel769</th>\n",
       "      <th>pixel770</th>\n",
       "      <th>pixel771</th>\n",
       "      <th>pixel772</th>\n",
       "      <th>pixel773</th>\n",
       "      <th>pixel774</th>\n",
       "      <th>pixel775</th>\n",
       "      <th>pixel776</th>\n",
       "      <th>pixel777</th>\n",
       "      <th>pixel778</th>\n",
       "      <th>pixel779</th>\n",
       "      <th>pixel780</th>\n",
       "      <th>pixel781</th>\n",
       "      <th>pixel782</th>\n",
       "      <th>pixel783</th>\n",
       "    </tr>\n",
       "  </thead>\n",
       "  <tbody>\n",
       "    <tr>\n",
       "      <th>0</th>\n",
       "      <td>0</td>\n",
       "      <td>0</td>\n",
       "      <td>0</td>\n",
       "      <td>0</td>\n",
       "      <td>0</td>\n",
       "      <td>0</td>\n",
       "      <td>0</td>\n",
       "      <td>0</td>\n",
       "      <td>0</td>\n",
       "      <td>0</td>\n",
       "      <td>0</td>\n",
       "      <td>0</td>\n",
       "      <td>0</td>\n",
       "      <td>0</td>\n",
       "      <td>0</td>\n",
       "      <td>0</td>\n",
       "      <td>0</td>\n",
       "      <td>0</td>\n",
       "      <td>0</td>\n",
       "      <td>0</td>\n",
       "      <td>0</td>\n",
       "      <td>0</td>\n",
       "      <td>0</td>\n",
       "      <td>0</td>\n",
       "      <td>0</td>\n",
       "      <td>0</td>\n",
       "      <td>0</td>\n",
       "      <td>0</td>\n",
       "      <td>0</td>\n",
       "      <td>0</td>\n",
       "      <td>0</td>\n",
       "      <td>0</td>\n",
       "      <td>0</td>\n",
       "      <td>0</td>\n",
       "      <td>0</td>\n",
       "      <td>0</td>\n",
       "      <td>0</td>\n",
       "      <td>0</td>\n",
       "      <td>0</td>\n",
       "      <td>0</td>\n",
       "      <td>...</td>\n",
       "      <td>0</td>\n",
       "      <td>0</td>\n",
       "      <td>0</td>\n",
       "      <td>0</td>\n",
       "      <td>0</td>\n",
       "      <td>0</td>\n",
       "      <td>0</td>\n",
       "      <td>0</td>\n",
       "      <td>0</td>\n",
       "      <td>0</td>\n",
       "      <td>0</td>\n",
       "      <td>0</td>\n",
       "      <td>0</td>\n",
       "      <td>0</td>\n",
       "      <td>0</td>\n",
       "      <td>0</td>\n",
       "      <td>0</td>\n",
       "      <td>0</td>\n",
       "      <td>0</td>\n",
       "      <td>0</td>\n",
       "      <td>0</td>\n",
       "      <td>0</td>\n",
       "      <td>0</td>\n",
       "      <td>0</td>\n",
       "      <td>0</td>\n",
       "      <td>0</td>\n",
       "      <td>0</td>\n",
       "      <td>0</td>\n",
       "      <td>0</td>\n",
       "      <td>0</td>\n",
       "      <td>0</td>\n",
       "      <td>0</td>\n",
       "      <td>0</td>\n",
       "      <td>0</td>\n",
       "      <td>0</td>\n",
       "      <td>0</td>\n",
       "      <td>0</td>\n",
       "      <td>0</td>\n",
       "      <td>0</td>\n",
       "      <td>0</td>\n",
       "    </tr>\n",
       "    <tr>\n",
       "      <th>1</th>\n",
       "      <td>1</td>\n",
       "      <td>0</td>\n",
       "      <td>0</td>\n",
       "      <td>0</td>\n",
       "      <td>0</td>\n",
       "      <td>0</td>\n",
       "      <td>0</td>\n",
       "      <td>0</td>\n",
       "      <td>0</td>\n",
       "      <td>0</td>\n",
       "      <td>0</td>\n",
       "      <td>0</td>\n",
       "      <td>0</td>\n",
       "      <td>0</td>\n",
       "      <td>0</td>\n",
       "      <td>0</td>\n",
       "      <td>0</td>\n",
       "      <td>0</td>\n",
       "      <td>0</td>\n",
       "      <td>0</td>\n",
       "      <td>0</td>\n",
       "      <td>0</td>\n",
       "      <td>0</td>\n",
       "      <td>0</td>\n",
       "      <td>0</td>\n",
       "      <td>0</td>\n",
       "      <td>0</td>\n",
       "      <td>0</td>\n",
       "      <td>0</td>\n",
       "      <td>0</td>\n",
       "      <td>0</td>\n",
       "      <td>0</td>\n",
       "      <td>0</td>\n",
       "      <td>0</td>\n",
       "      <td>0</td>\n",
       "      <td>0</td>\n",
       "      <td>0</td>\n",
       "      <td>0</td>\n",
       "      <td>0</td>\n",
       "      <td>0</td>\n",
       "      <td>...</td>\n",
       "      <td>0</td>\n",
       "      <td>0</td>\n",
       "      <td>0</td>\n",
       "      <td>0</td>\n",
       "      <td>0</td>\n",
       "      <td>0</td>\n",
       "      <td>0</td>\n",
       "      <td>0</td>\n",
       "      <td>0</td>\n",
       "      <td>0</td>\n",
       "      <td>0</td>\n",
       "      <td>0</td>\n",
       "      <td>0</td>\n",
       "      <td>0</td>\n",
       "      <td>0</td>\n",
       "      <td>0</td>\n",
       "      <td>0</td>\n",
       "      <td>0</td>\n",
       "      <td>0</td>\n",
       "      <td>0</td>\n",
       "      <td>0</td>\n",
       "      <td>0</td>\n",
       "      <td>0</td>\n",
       "      <td>0</td>\n",
       "      <td>0</td>\n",
       "      <td>0</td>\n",
       "      <td>0</td>\n",
       "      <td>0</td>\n",
       "      <td>0</td>\n",
       "      <td>0</td>\n",
       "      <td>0</td>\n",
       "      <td>0</td>\n",
       "      <td>0</td>\n",
       "      <td>0</td>\n",
       "      <td>0</td>\n",
       "      <td>0</td>\n",
       "      <td>0</td>\n",
       "      <td>0</td>\n",
       "      <td>0</td>\n",
       "      <td>0</td>\n",
       "    </tr>\n",
       "    <tr>\n",
       "      <th>2</th>\n",
       "      <td>2</td>\n",
       "      <td>0</td>\n",
       "      <td>0</td>\n",
       "      <td>0</td>\n",
       "      <td>0</td>\n",
       "      <td>0</td>\n",
       "      <td>0</td>\n",
       "      <td>0</td>\n",
       "      <td>0</td>\n",
       "      <td>0</td>\n",
       "      <td>0</td>\n",
       "      <td>0</td>\n",
       "      <td>0</td>\n",
       "      <td>0</td>\n",
       "      <td>0</td>\n",
       "      <td>0</td>\n",
       "      <td>0</td>\n",
       "      <td>0</td>\n",
       "      <td>0</td>\n",
       "      <td>0</td>\n",
       "      <td>0</td>\n",
       "      <td>0</td>\n",
       "      <td>0</td>\n",
       "      <td>0</td>\n",
       "      <td>0</td>\n",
       "      <td>0</td>\n",
       "      <td>0</td>\n",
       "      <td>0</td>\n",
       "      <td>0</td>\n",
       "      <td>0</td>\n",
       "      <td>0</td>\n",
       "      <td>0</td>\n",
       "      <td>0</td>\n",
       "      <td>0</td>\n",
       "      <td>0</td>\n",
       "      <td>0</td>\n",
       "      <td>0</td>\n",
       "      <td>0</td>\n",
       "      <td>0</td>\n",
       "      <td>0</td>\n",
       "      <td>...</td>\n",
       "      <td>0</td>\n",
       "      <td>0</td>\n",
       "      <td>0</td>\n",
       "      <td>0</td>\n",
       "      <td>0</td>\n",
       "      <td>0</td>\n",
       "      <td>0</td>\n",
       "      <td>0</td>\n",
       "      <td>0</td>\n",
       "      <td>0</td>\n",
       "      <td>0</td>\n",
       "      <td>0</td>\n",
       "      <td>0</td>\n",
       "      <td>0</td>\n",
       "      <td>0</td>\n",
       "      <td>0</td>\n",
       "      <td>0</td>\n",
       "      <td>0</td>\n",
       "      <td>0</td>\n",
       "      <td>0</td>\n",
       "      <td>0</td>\n",
       "      <td>0</td>\n",
       "      <td>0</td>\n",
       "      <td>0</td>\n",
       "      <td>0</td>\n",
       "      <td>0</td>\n",
       "      <td>0</td>\n",
       "      <td>0</td>\n",
       "      <td>0</td>\n",
       "      <td>0</td>\n",
       "      <td>0</td>\n",
       "      <td>0</td>\n",
       "      <td>0</td>\n",
       "      <td>0</td>\n",
       "      <td>0</td>\n",
       "      <td>0</td>\n",
       "      <td>0</td>\n",
       "      <td>0</td>\n",
       "      <td>0</td>\n",
       "      <td>0</td>\n",
       "    </tr>\n",
       "  </tbody>\n",
       "</table>\n",
       "<p>3 rows × 785 columns</p>\n",
       "</div>"
      ],
      "text/plain": [
       "   label  pixel0  pixel1  pixel2  ...  pixel780  pixel781  pixel782  pixel783\n",
       "0      0       0       0       0  ...         0         0         0         0\n",
       "1      1       0       0       0  ...         0         0         0         0\n",
       "2      2       0       0       0  ...         0         0         0         0\n",
       "\n",
       "[3 rows x 785 columns]"
      ]
     },
     "metadata": {
      "tags": []
     },
     "output_type": "display_data"
    },
    {
     "data": {
      "text/markdown": [
       "**Preview of Test Data:**"
      ],
      "text/plain": [
       "<IPython.core.display.Markdown object>"
      ]
     },
     "metadata": {
      "tags": []
     },
     "output_type": "display_data"
    },
    {
     "data": {
      "text/html": [
       "<div>\n",
       "<style scoped>\n",
       "    .dataframe tbody tr th:only-of-type {\n",
       "        vertical-align: middle;\n",
       "    }\n",
       "\n",
       "    .dataframe tbody tr th {\n",
       "        vertical-align: top;\n",
       "    }\n",
       "\n",
       "    .dataframe thead th {\n",
       "        text-align: right;\n",
       "    }\n",
       "</style>\n",
       "<table border=\"1\" class=\"dataframe\">\n",
       "  <thead>\n",
       "    <tr style=\"text-align: right;\">\n",
       "      <th></th>\n",
       "      <th>id</th>\n",
       "      <th>pixel0</th>\n",
       "      <th>pixel1</th>\n",
       "      <th>pixel2</th>\n",
       "      <th>pixel3</th>\n",
       "      <th>pixel4</th>\n",
       "      <th>pixel5</th>\n",
       "      <th>pixel6</th>\n",
       "      <th>pixel7</th>\n",
       "      <th>pixel8</th>\n",
       "      <th>pixel9</th>\n",
       "      <th>pixel10</th>\n",
       "      <th>pixel11</th>\n",
       "      <th>pixel12</th>\n",
       "      <th>pixel13</th>\n",
       "      <th>pixel14</th>\n",
       "      <th>pixel15</th>\n",
       "      <th>pixel16</th>\n",
       "      <th>pixel17</th>\n",
       "      <th>pixel18</th>\n",
       "      <th>pixel19</th>\n",
       "      <th>pixel20</th>\n",
       "      <th>pixel21</th>\n",
       "      <th>pixel22</th>\n",
       "      <th>pixel23</th>\n",
       "      <th>pixel24</th>\n",
       "      <th>pixel25</th>\n",
       "      <th>pixel26</th>\n",
       "      <th>pixel27</th>\n",
       "      <th>pixel28</th>\n",
       "      <th>pixel29</th>\n",
       "      <th>pixel30</th>\n",
       "      <th>pixel31</th>\n",
       "      <th>pixel32</th>\n",
       "      <th>pixel33</th>\n",
       "      <th>pixel34</th>\n",
       "      <th>pixel35</th>\n",
       "      <th>pixel36</th>\n",
       "      <th>pixel37</th>\n",
       "      <th>pixel38</th>\n",
       "      <th>...</th>\n",
       "      <th>pixel744</th>\n",
       "      <th>pixel745</th>\n",
       "      <th>pixel746</th>\n",
       "      <th>pixel747</th>\n",
       "      <th>pixel748</th>\n",
       "      <th>pixel749</th>\n",
       "      <th>pixel750</th>\n",
       "      <th>pixel751</th>\n",
       "      <th>pixel752</th>\n",
       "      <th>pixel753</th>\n",
       "      <th>pixel754</th>\n",
       "      <th>pixel755</th>\n",
       "      <th>pixel756</th>\n",
       "      <th>pixel757</th>\n",
       "      <th>pixel758</th>\n",
       "      <th>pixel759</th>\n",
       "      <th>pixel760</th>\n",
       "      <th>pixel761</th>\n",
       "      <th>pixel762</th>\n",
       "      <th>pixel763</th>\n",
       "      <th>pixel764</th>\n",
       "      <th>pixel765</th>\n",
       "      <th>pixel766</th>\n",
       "      <th>pixel767</th>\n",
       "      <th>pixel768</th>\n",
       "      <th>pixel769</th>\n",
       "      <th>pixel770</th>\n",
       "      <th>pixel771</th>\n",
       "      <th>pixel772</th>\n",
       "      <th>pixel773</th>\n",
       "      <th>pixel774</th>\n",
       "      <th>pixel775</th>\n",
       "      <th>pixel776</th>\n",
       "      <th>pixel777</th>\n",
       "      <th>pixel778</th>\n",
       "      <th>pixel779</th>\n",
       "      <th>pixel780</th>\n",
       "      <th>pixel781</th>\n",
       "      <th>pixel782</th>\n",
       "      <th>pixel783</th>\n",
       "    </tr>\n",
       "  </thead>\n",
       "  <tbody>\n",
       "    <tr>\n",
       "      <th>0</th>\n",
       "      <td>0</td>\n",
       "      <td>0</td>\n",
       "      <td>0</td>\n",
       "      <td>0</td>\n",
       "      <td>0</td>\n",
       "      <td>0</td>\n",
       "      <td>0</td>\n",
       "      <td>0</td>\n",
       "      <td>0</td>\n",
       "      <td>0</td>\n",
       "      <td>0</td>\n",
       "      <td>0</td>\n",
       "      <td>0</td>\n",
       "      <td>0</td>\n",
       "      <td>0</td>\n",
       "      <td>0</td>\n",
       "      <td>0</td>\n",
       "      <td>0</td>\n",
       "      <td>0</td>\n",
       "      <td>0</td>\n",
       "      <td>0</td>\n",
       "      <td>0</td>\n",
       "      <td>0</td>\n",
       "      <td>0</td>\n",
       "      <td>0</td>\n",
       "      <td>0</td>\n",
       "      <td>0</td>\n",
       "      <td>0</td>\n",
       "      <td>0</td>\n",
       "      <td>0</td>\n",
       "      <td>0</td>\n",
       "      <td>0</td>\n",
       "      <td>0</td>\n",
       "      <td>0</td>\n",
       "      <td>0</td>\n",
       "      <td>0</td>\n",
       "      <td>0</td>\n",
       "      <td>0</td>\n",
       "      <td>0</td>\n",
       "      <td>0</td>\n",
       "      <td>...</td>\n",
       "      <td>0</td>\n",
       "      <td>0</td>\n",
       "      <td>0</td>\n",
       "      <td>0</td>\n",
       "      <td>0</td>\n",
       "      <td>0</td>\n",
       "      <td>0</td>\n",
       "      <td>0</td>\n",
       "      <td>0</td>\n",
       "      <td>0</td>\n",
       "      <td>0</td>\n",
       "      <td>0</td>\n",
       "      <td>0</td>\n",
       "      <td>0</td>\n",
       "      <td>0</td>\n",
       "      <td>0</td>\n",
       "      <td>0</td>\n",
       "      <td>0</td>\n",
       "      <td>0</td>\n",
       "      <td>0</td>\n",
       "      <td>0</td>\n",
       "      <td>0</td>\n",
       "      <td>0</td>\n",
       "      <td>0</td>\n",
       "      <td>0</td>\n",
       "      <td>0</td>\n",
       "      <td>0</td>\n",
       "      <td>0</td>\n",
       "      <td>0</td>\n",
       "      <td>0</td>\n",
       "      <td>0</td>\n",
       "      <td>0</td>\n",
       "      <td>0</td>\n",
       "      <td>0</td>\n",
       "      <td>0</td>\n",
       "      <td>0</td>\n",
       "      <td>0</td>\n",
       "      <td>0</td>\n",
       "      <td>0</td>\n",
       "      <td>0</td>\n",
       "    </tr>\n",
       "    <tr>\n",
       "      <th>1</th>\n",
       "      <td>1</td>\n",
       "      <td>0</td>\n",
       "      <td>0</td>\n",
       "      <td>0</td>\n",
       "      <td>0</td>\n",
       "      <td>0</td>\n",
       "      <td>0</td>\n",
       "      <td>0</td>\n",
       "      <td>0</td>\n",
       "      <td>0</td>\n",
       "      <td>0</td>\n",
       "      <td>0</td>\n",
       "      <td>0</td>\n",
       "      <td>0</td>\n",
       "      <td>0</td>\n",
       "      <td>0</td>\n",
       "      <td>0</td>\n",
       "      <td>0</td>\n",
       "      <td>0</td>\n",
       "      <td>0</td>\n",
       "      <td>0</td>\n",
       "      <td>0</td>\n",
       "      <td>0</td>\n",
       "      <td>0</td>\n",
       "      <td>0</td>\n",
       "      <td>0</td>\n",
       "      <td>0</td>\n",
       "      <td>0</td>\n",
       "      <td>0</td>\n",
       "      <td>0</td>\n",
       "      <td>0</td>\n",
       "      <td>0</td>\n",
       "      <td>0</td>\n",
       "      <td>0</td>\n",
       "      <td>0</td>\n",
       "      <td>0</td>\n",
       "      <td>0</td>\n",
       "      <td>0</td>\n",
       "      <td>0</td>\n",
       "      <td>0</td>\n",
       "      <td>...</td>\n",
       "      <td>0</td>\n",
       "      <td>0</td>\n",
       "      <td>0</td>\n",
       "      <td>0</td>\n",
       "      <td>0</td>\n",
       "      <td>0</td>\n",
       "      <td>0</td>\n",
       "      <td>0</td>\n",
       "      <td>0</td>\n",
       "      <td>0</td>\n",
       "      <td>0</td>\n",
       "      <td>0</td>\n",
       "      <td>0</td>\n",
       "      <td>0</td>\n",
       "      <td>0</td>\n",
       "      <td>0</td>\n",
       "      <td>0</td>\n",
       "      <td>0</td>\n",
       "      <td>0</td>\n",
       "      <td>0</td>\n",
       "      <td>0</td>\n",
       "      <td>0</td>\n",
       "      <td>0</td>\n",
       "      <td>0</td>\n",
       "      <td>0</td>\n",
       "      <td>0</td>\n",
       "      <td>0</td>\n",
       "      <td>0</td>\n",
       "      <td>0</td>\n",
       "      <td>0</td>\n",
       "      <td>0</td>\n",
       "      <td>0</td>\n",
       "      <td>0</td>\n",
       "      <td>0</td>\n",
       "      <td>0</td>\n",
       "      <td>0</td>\n",
       "      <td>0</td>\n",
       "      <td>0</td>\n",
       "      <td>0</td>\n",
       "      <td>0</td>\n",
       "    </tr>\n",
       "    <tr>\n",
       "      <th>2</th>\n",
       "      <td>2</td>\n",
       "      <td>0</td>\n",
       "      <td>0</td>\n",
       "      <td>0</td>\n",
       "      <td>0</td>\n",
       "      <td>0</td>\n",
       "      <td>0</td>\n",
       "      <td>0</td>\n",
       "      <td>0</td>\n",
       "      <td>0</td>\n",
       "      <td>0</td>\n",
       "      <td>0</td>\n",
       "      <td>0</td>\n",
       "      <td>0</td>\n",
       "      <td>0</td>\n",
       "      <td>0</td>\n",
       "      <td>0</td>\n",
       "      <td>0</td>\n",
       "      <td>0</td>\n",
       "      <td>0</td>\n",
       "      <td>0</td>\n",
       "      <td>0</td>\n",
       "      <td>0</td>\n",
       "      <td>0</td>\n",
       "      <td>0</td>\n",
       "      <td>0</td>\n",
       "      <td>0</td>\n",
       "      <td>0</td>\n",
       "      <td>0</td>\n",
       "      <td>0</td>\n",
       "      <td>0</td>\n",
       "      <td>0</td>\n",
       "      <td>0</td>\n",
       "      <td>0</td>\n",
       "      <td>0</td>\n",
       "      <td>0</td>\n",
       "      <td>0</td>\n",
       "      <td>0</td>\n",
       "      <td>0</td>\n",
       "      <td>0</td>\n",
       "      <td>...</td>\n",
       "      <td>0</td>\n",
       "      <td>0</td>\n",
       "      <td>0</td>\n",
       "      <td>0</td>\n",
       "      <td>0</td>\n",
       "      <td>0</td>\n",
       "      <td>0</td>\n",
       "      <td>0</td>\n",
       "      <td>0</td>\n",
       "      <td>0</td>\n",
       "      <td>0</td>\n",
       "      <td>0</td>\n",
       "      <td>0</td>\n",
       "      <td>0</td>\n",
       "      <td>0</td>\n",
       "      <td>0</td>\n",
       "      <td>0</td>\n",
       "      <td>0</td>\n",
       "      <td>0</td>\n",
       "      <td>0</td>\n",
       "      <td>0</td>\n",
       "      <td>0</td>\n",
       "      <td>0</td>\n",
       "      <td>0</td>\n",
       "      <td>0</td>\n",
       "      <td>0</td>\n",
       "      <td>0</td>\n",
       "      <td>0</td>\n",
       "      <td>0</td>\n",
       "      <td>0</td>\n",
       "      <td>0</td>\n",
       "      <td>0</td>\n",
       "      <td>0</td>\n",
       "      <td>0</td>\n",
       "      <td>0</td>\n",
       "      <td>0</td>\n",
       "      <td>0</td>\n",
       "      <td>0</td>\n",
       "      <td>0</td>\n",
       "      <td>0</td>\n",
       "    </tr>\n",
       "  </tbody>\n",
       "</table>\n",
       "<p>3 rows × 785 columns</p>\n",
       "</div>"
      ],
      "text/plain": [
       "   id  pixel0  pixel1  pixel2  ...  pixel780  pixel781  pixel782  pixel783\n",
       "0   0       0       0       0  ...         0         0         0         0\n",
       "1   1       0       0       0  ...         0         0         0         0\n",
       "2   2       0       0       0  ...         0         0         0         0\n",
       "\n",
       "[3 rows x 785 columns]"
      ]
     },
     "metadata": {
      "tags": []
     },
     "output_type": "display_data"
    }
   ],
   "source": [
    "'''Train and test data at a glance.'''\n",
    "bold('**Preview of Train Data:**')\n",
    "display(train_kannadaMnist.head(3))\n",
    "bold('**Preview of Test Data:**')\n",
    "display(test_kannadaMnist.head(3))"
   ]
  },
  {
   "cell_type": "code",
   "execution_count": 22,
   "metadata": {
    "colab": {
     "base_uri": "https://localhost:8080/",
     "height": 221
    },
    "colab_type": "code",
    "id": "xaUOvqwiCipf",
    "outputId": "06c6e9a4-3ddc-478f-eab2-7ff330e3ee5e"
   },
   "outputs": [
    {
     "data": {
      "text/markdown": [
       "**Train Data**"
      ],
      "text/plain": [
       "<IPython.core.display.Markdown object>"
      ]
     },
     "metadata": {
      "tags": []
     },
     "output_type": "display_data"
    },
    {
     "data": {
      "text/plain": [
       "count       785\n",
       "unique        1\n",
       "top       False\n",
       "freq        785\n",
       "dtype: object"
      ]
     },
     "metadata": {
      "tags": []
     },
     "output_type": "display_data"
    },
    {
     "data": {
      "text/markdown": [
       "**Test Data**"
      ],
      "text/plain": [
       "<IPython.core.display.Markdown object>"
      ]
     },
     "metadata": {
      "tags": []
     },
     "output_type": "display_data"
    },
    {
     "data": {
      "text/plain": [
       "count       785\n",
       "unique        1\n",
       "top       False\n",
       "freq        785\n",
       "dtype: object"
      ]
     },
     "metadata": {
      "tags": []
     },
     "output_type": "display_data"
    }
   ],
   "source": [
    "'''Ckecking for null and missing values'''\n",
    "bold('**Train Data**')\n",
    "display(train_kannadaMnist.isnull().any(). describe())\n",
    "bold('**Test Data**')\n",
    "display(test_kannadaMnist.isnull().any(). describe())"
   ]
  },
  {
   "cell_type": "code",
   "execution_count": 0,
   "metadata": {
    "colab": {},
    "colab_type": "code",
    "id": "ErQwKvDJCipj"
   },
   "outputs": [],
   "source": [
    "'''Seting X and Y'''\n",
    "y_train = train_kannadaMnist['label']\n",
    "\n",
    "# Drop 'label' column\n",
    "X_train = train_kannadaMnist.drop('label', axis = 1)\n",
    "\n",
    "X_test = test_kannadaMnist.drop('id', axis = 1)\n",
    "\n",
    "dig_img = dig_kannadaMnist.drop('label', axis = 1)"
   ]
  },
  {
   "cell_type": "code",
   "execution_count": 24,
   "metadata": {
    "colab": {
     "base_uri": "https://localhost:8080/",
     "height": 85
    },
    "colab_type": "code",
    "id": "6AbHtf29Cipp",
    "outputId": "aa01a259-7f3a-471d-ae1e-bf089f3ecbb7"
   },
   "outputs": [
    {
     "data": {
      "text/markdown": [
       "**Data Dimension for Model Building:**"
      ],
      "text/plain": [
       "<IPython.core.display.Markdown object>"
      ]
     },
     "metadata": {
      "tags": []
     },
     "output_type": "display_data"
    },
    {
     "name": "stdout",
     "output_type": "stream",
     "text": [
      "Input matrix dimension: (60000, 784)\n",
      "Output vector dimension: (60000,)\n",
      "Test data dimension: (5000, 784)\n"
     ]
    }
   ],
   "source": [
    "\"\"\"Let's have a final look at our data\"\"\"\n",
    "bold('**Data Dimension for Model Building:**')\n",
    "print('Input matrix dimension:', X_train.shape)\n",
    "print('Output vector dimension:',y_train.shape)\n",
    "print('Test data dimension:', X_test.shape)"
   ]
  },
  {
   "cell_type": "markdown",
   "metadata": {
    "colab_type": "text",
    "id": "n6A9uaQpCipt"
   },
   "source": [
    "## 7.1 Checking the Target Distribution"
   ]
  },
  {
   "cell_type": "code",
   "execution_count": 25,
   "metadata": {
    "colab": {
     "base_uri": "https://localhost:8080/",
     "height": 514
    },
    "colab_type": "code",
    "id": "9vMLjtLHCipt",
    "outputId": "8e2be7e4-408f-4f9f-ec01-903bf4447fc7"
   },
   "outputs": [
    {
     "data": {
      "image/png": "[encoded data removed]",
      "text/plain": [
       "<Figure size 576x576 with 1 Axes>"
      ]
     },
     "metadata": {
      "needs_background": "light",
      "tags": []
     },
     "output_type": "display_data"
    },
    {
     "name": "stdout",
     "output_type": "stream",
     "text": [
      "Cool\n"
     ]
    }
   ],
   "source": [
    "'''Visualizating the taget distribution'''\n",
    "plt.figure(figsize = (8,8))\n",
    "sns.countplot(y_train, palette='cubehelix')\n",
    "plt.show()\n",
    "print(\"Cool\")"
   ]
  },
  {
   "cell_type": "code",
   "execution_count": 26,
   "metadata": {
    "colab": {
     "base_uri": "https://localhost:8080/",
     "height": 68
    },
    "colab_type": "code",
    "id": "WCZZ7JMtCipx",
    "outputId": "0e97c803-2022-46b1-e6cc-216c08bd0caf"
   },
   "outputs": [
    {
     "name": "stdout",
     "output_type": "stream",
     "text": [
      "image_size => 784\n",
      "image_width => 28\n",
      "image_height => 28\n"
     ]
    }
   ],
   "source": [
    "images = train_kannadaMnist.iloc[:,1:].values\n",
    "images = images.astype(np.float)\n",
    "\n",
    "# convert from [0:255] => [0.0:1.0]\n",
    "images = np.multiply(images, 1.0 / 255.0)\n",
    "\n",
    "image_size = images.shape[1]\n",
    "print('image_size => {0}'.format(image_size))\n",
    "\n",
    "# in this case all images are square\n",
    "image_width = image_height = np.ceil(np.sqrt(image_size)).astype(np.uint8)\n",
    "\n",
    "print('image_width => {0}\\nimage_height => {1}'.format(image_width, image_height))"
   ]
  },
  {
   "cell_type": "code",
   "execution_count": 29,
   "metadata": {
    "colab": {
     "base_uri": "https://localhost:8080/",
     "height": 248
    },
    "colab_type": "code",
    "id": "KFR-YNDCCip3",
    "outputId": "d041271f-450d-494b-9d93-a61e40ba9977"
   },
   "outputs": [
    {
     "data": {
      "image/png": "[encoded data removed]",
      "text/plain": [
       "<Figure size 432x288 with 1 Axes>"
      ]
     },
     "metadata": {
      "needs_background": "light",
      "tags": []
     },
     "output_type": "display_data"
    }
   ],
   "source": [
    "'''Displaying image'''\n",
    "# display image\n",
    "def display(img):\n",
    "    \n",
    "    # (784) => (28,28)\n",
    "    one_image = img.reshape(image_width,image_height)\n",
    "    \n",
    "    plt.axis('off')\n",
    "    plt.imshow(one_image, cmap='binary')\n",
    "\n",
    "# output image     \n",
    "display(images[4])"
   ]
  },
  {
   "cell_type": "code",
   "execution_count": 0,
   "metadata": {
    "colab": {},
    "colab_type": "code",
    "id": "kd-UmZlUCip9"
   },
   "outputs": [],
   "source": [
    "'''Converting X_train to numpy array'''\n",
    "X_train_array = X_train.to_numpy()"
   ]
  },
  {
   "cell_type": "code",
   "execution_count": 31,
   "metadata": {
    "colab": {
     "base_uri": "https://localhost:8080/",
     "height": 91
    },
    "colab_type": "code",
    "id": "8PoR36fkCiqA",
    "outputId": "19b39271-fe92-4e82-edb3-84ba9ae6aaec"
   },
   "outputs": [
    {
     "data": {
      "image/png": "[encoded data removed]",
      "text/plain": [
       "<Figure size 720x720 with 10 Axes>"
      ]
     },
     "metadata": {
      "tags": []
     },
     "output_type": "display_data"
    }
   ],
   "source": [
    "'''Displaying images'''\n",
    "n=10\n",
    "fig = plt.figure(figsize=(10,10))\n",
    "\n",
    "for i in range(n):\n",
    "    ax = fig.add_subplot(2, n, i+1, xticks=[], yticks=[])\n",
    "    ax.imshow(X_train_array[i].reshape(image_width,image_height), cmap='viridis')\n",
    "    ax.axis(\"off\")\n",
    "\n",
    "plt.tight_layout()\n",
    "plt.show()"
   ]
  },
  {
   "cell_type": "markdown",
   "metadata": {
    "colab_type": "text",
    "id": "5Ps1H16DCiqF"
   },
   "source": [
    "# 8. Data Preprocessing"
   ]
  },
  {
   "cell_type": "markdown",
   "metadata": {
    "colab_type": "text",
    "id": "RWAFfduSCiqF"
   },
   "source": [
    "## 8.1 Image Normalization\n",
    "\n",
    "Normalize Pixel Values\n",
    "For most image data, the pixel values are integers with values between 0 and 255.\n",
    "\n",
    "Neural networks process inputs using small weight values, and inputs with large integer values can disrupt or slow down the learning process. As such it is good practice to normalize the pixel values so that each pixel value has a value between 0 and 1.\n",
    "\n",
    "It is valid for images to have pixel values in the range 0-1 and images can be viewed normally.\n",
    "\n",
    "This can be achieved by dividing all pixels values by the largest pixel value; that is 255. This is performed across all channels, regardless of the actual range of pixel values that are present in the image."
   ]
  },
  {
   "cell_type": "code",
   "execution_count": 0,
   "metadata": {
    "colab": {},
    "colab_type": "code",
    "id": "JQ_RiPHUCiqG"
   },
   "outputs": [],
   "source": [
    "'''Normalizing the data'''\n",
    "X_train = X_train / 255.0\n",
    "X_test = X_test / 255.0\n",
    "dig_img = dig_img/255.0"
   ]
  },
  {
   "cell_type": "markdown",
   "metadata": {
    "colab_type": "text",
    "id": "YbdaELXhCiqJ"
   },
   "source": [
    "## 8.2 Reshaping the images\n",
    "\n",
    "Train and test images (28 x 28) has been stock into pandas.Dataframe as 1D vectors of 784 values. We reshape all data to 28x28x1 3D matrices.\n",
    "\n",
    "Keras requires an extra dimension in the end which correspond to channels. MNIST images are gray scaled so it use only one channel. For RGB images, there is 3 channels, we would have reshaped 784px vectors to 28x28x3 3D matrices."
   ]
  },
  {
   "cell_type": "code",
   "execution_count": 0,
   "metadata": {
    "colab": {},
    "colab_type": "code",
    "id": "hyBsGd6qCiqK"
   },
   "outputs": [],
   "source": [
    "'''Reshape image in 3 dimensions (height = 28px, width = 28px , canal = 1)'''\n",
    "X_train = X_train.values.reshape(-1,28,28,1)\n",
    "X_test = X_test.values.reshape(-1,28,28,1)\n",
    "dig_img = dig_img.values.reshape(-1,28,28,1)"
   ]
  },
  {
   "cell_type": "code",
   "execution_count": 34,
   "metadata": {
    "colab": {
     "base_uri": "https://localhost:8080/",
     "height": 34
    },
    "colab_type": "code",
    "id": "495XGLstCiqN",
    "outputId": "da3aa8b3-1889-4c66-961c-d5ace17cca0a"
   },
   "outputs": [
    {
     "name": "stdout",
     "output_type": "stream",
     "text": [
      "(60000, 28, 28, 1) (5000, 28, 28, 1) (10240, 28, 28, 1)\n"
     ]
    }
   ],
   "source": [
    "print(X_train.shape, X_test.shape, dig_img.shape)"
   ]
  },
  {
   "cell_type": "markdown",
   "metadata": {},
   "source": [
    "Data reshape into 60000 examples of height 28 and width 28 and 1 channel."
   ]
  },
  {
   "cell_type": "markdown",
   "metadata": {
    "colab_type": "text",
    "id": "baa2-dM8CiqS"
   },
   "source": [
    "## 8.3 Splitting Training and Validation set\n",
    "\n",
    "Now we will split out training data into train and validation data 10 percent of the training data will be used for validation purpose."
   ]
  },
  {
   "cell_type": "code",
   "execution_count": 0,
   "metadata": {
    "colab": {},
    "colab_type": "code",
    "id": "U3zWk7OtCiqU"
   },
   "outputs": [],
   "source": [
    "'''Set the random seed'''\n",
    "seed = 44\n",
    "'''Split the train and the validation set for the fitting'''\n",
    "X_train, X_val, y_train, y_val = train_test_split(X_train, y_train, test_size = 0.1, random_state=seed)"
   ]
  },
  {
   "cell_type": "markdown",
   "metadata": {
    "colab_type": "text",
    "id": "UI9T_Gq0CiqY"
   },
   "source": [
    "## 8.4 Label encoding of Target Variable"
   ]
  },
  {
   "cell_type": "code",
   "execution_count": 0,
   "metadata": {
    "colab": {},
    "colab_type": "code",
    "id": "gpDbgUPrCiqY"
   },
   "outputs": [],
   "source": [
    "'''convert class labels from scalars to one-hot vectors'''\n",
    "# 0 => [1 0 0 0 0 0 0 0 0 0]\n",
    "# 1 => [0 1 0 0 0 0 0 0 0 0]\n",
    "# ...\n",
    "# 9 => [0 0 0 0 0 0 0 0 0 1]\n",
    "y_train = tf.keras.utils.to_categorical(y_train, num_classes = 10, dtype='uint8')\n",
    "\n",
    "y_val = tf.keras.utils.to_categorical(y_val, num_classes = 10, dtype='uint8')"
   ]
  },
  {
   "cell_type": "markdown",
   "metadata": {
    "colab_type": "text",
    "id": "HWe6ChhuCiqd"
   },
   "source": [
    "## 8.5 Data Augmentation\n",
    "To get more training data, to avoid overfitting, data augmentation is used. Data augmentation is the creation of altered copies of each training instance (image) within a training dataset. \n",
    "\n",
    "1. Ramdomly rotate the images by 10 degrees\n",
    "2. Randomly zoom the images by 25%\n",
    "3. Randomly shift its height and width by 25%\n",
    "\n",
    "In order to avoid overfitting problem, we need to expand artificially our handwritten digit dataset. We can make your existing dataset even larger. The idea is to alter the training data with small transformations to reproduce the variations occuring when someone is writing a digit.\n",
    "\n",
    "For example, the number is not centered The scale is not the same (some who write with big/small numbers) The image is rotated...\n",
    "\n",
    "Approaches that alter the training data in ways that change the array representation while keeping the label the same are known as data augmentation techniques. Some popular augmentations people use are grayscales, horizontal flips, vertical flips, random crops, color jitters, translations, rotations, and much more.\n",
    "\n",
    "By applying just a couple of these transformations to our training data, we can easily double or triple the number of training examples and create a very robust model.\n"
   ]
  },
  {
   "cell_type": "code",
   "execution_count": 0,
   "metadata": {
    "colab": {},
    "colab_type": "code",
    "id": "0RGmjTWTCiqh"
   },
   "outputs": [],
   "source": [
    "# Artificially increase training set\n",
    "train_datagen = ImageDataGenerator(rescale=1./255.,\n",
    "                                   rotation_range=10,\n",
    "                                   width_shift_range=0.25,\n",
    "                                   height_shift_range=0.25,\n",
    "                                   shear_range=0.1,\n",
    "                                   zoom_range=0.25,\n",
    "                                   horizontal_flip=False)\n",
    "train_datagen.fit(X_train)"
   ]
  },
  {
   "cell_type": "markdown",
   "metadata": {
    "colab_type": "text",
    "id": "Z-hKVXTgCiqk"
   },
   "source": [
    "# 9. CNN Model\n",
    "\n",
    "## 9.1 Defining and Outlining the model\n",
    "\n",
    "I used the Keras Sequential API, where you have just to add one layer at a time, starting from the input.\n",
    "\n",
    "![title](images/Cnn1.png)\n",
    "\n",
    "The first is the ***convolutional (Conv2D) layer***. It is like a set of ***learnable filters***. I choosed to set 32 filters for the two firsts conv2D layers and 64 filters for the two last ones. Each filter transforms a part of the image (defined by the kernel size) using the kernel filter. The kernel filter matrix is applied on the whole image. Filters can be seen as a transformation of the image.\n",
    "\n",
    "\n",
    "![title](images/FilterGiphy.gif)\n",
    "\n",
    "The CNN can extract features that are useful everywhere from these transformed images (feature maps).\n",
    "\n",
    "***Padding***\n",
    "we can pad the image with an additional border, i.e., we add one pixel all around the edges. \n",
    "\n",
    "***Valid:*** It means no padding. If we are using valid padding, the output will be (n-f+1) X (n-f+1)\n",
    "***Same:*** Here, we apply padding so that the output size is the same as the input size, i.e.,\n",
    "n+2p-f+1 = n\n",
    "So, p = (f-1)/2\n",
    "\n",
    "![title](images/Padding.png)\n",
    "\n",
    "The second important layer in CNN is the ***pooling (MaxPool2D) layer***. This layer simply acts as a ***downsampling filter***. It looks at the 2 neighboring pixels and picks the maximal value. These are used to reduce computational cost, and to some extent also reduce overfitting. We have to choose the pooling size (i.e the area size pooled each time) more the pooling dimension is high, more the downsampling is important.\n",
    "\n",
    "![title](images/Pooling.png)\n",
    "\n",
    "Combining convolutional and pooling layers, CNN are able to combine local features and learn more global features of the image.\n",
    "\n",
    "***Dropout is a regularization method***, where a proportion of nodes in the layer are randomly ignored (setting their wieghts to zero) for each training sample. This drops randomly a propotion of the network and forces the network to learn features in a distributed way. This technique also improves generalization and reduces the overfitting.\n",
    "\n",
    "![title](images/Dropout.png)\n",
    "\n",
    "***'relu'*** is the rectifier (activation function max(0,x). The rectifier activation function is used to add non linearity to the network.\n",
    "\n",
    "\n",
    "The ***Flatten layer*** is use to convert the final feature maps into a one single 1D vector. This flattening step is needed so that you can make use of fully connected layers after some convolutional/maxpool layers. It combines all the found local features of the previous convolutional layers.\n",
    "\n",
    "![title](images/Flat.png)\n",
    "\n",
    "In the end I have used the features in two ***fully-connected (Dense) layers*** which is just artificial an neural networks (ANN) classifier. In the last layer(Dense(10,activation=\"softmax\")) the net outputs distribution of probability of each class.\n",
    "\n",
    "![title](images/Full.png)\n",
    "\n",
    "Fully Connected Layer and Output Layer Fully connected layers or dense layers are the same hidden layers consisting of defined number of neurons connected with elements of another layer that we discussed in simple ANN. However the output layer is also the same but the number of neurons depend on our task. \n",
    "\n",
    "In summary, the architecture of CNN , we can simply understand that it consist of an input layer followed by a Conv layer. The dimensions of conv layer depends on the data and problem, hence changing the dimensions accordingly. After the Conv Layer there is a activation layer , usually ReLU since it gives better results. After some conv and relu combination , pooling layer is used to reduce the size. Then after some combination of previously defined architecture, flattening layer is used to flatten the input for fully connected layer. Next to these layer, the last layer is the output layer."
   ]
  },
  {
   "cell_type": "code",
   "execution_count": 0,
   "metadata": {
    "colab": {},
    "colab_type": "code",
    "id": "SImmspR6Ciql"
   },
   "outputs": [],
   "source": [
    "'''Set the CNN model'''\n",
    "# CNN architechture is In -> [[Conv2D->relu]*2 -> MaxPool2D -> Dropout]*2 -> Flatten -> Dense -> Dropout -> Out\n",
    "#model = tensorflow.keras.Sequential()\n",
    "model = Sequential()\n",
    "model.add(Conv2D(32, (5, 5), activation='relu', padding='same', input_shape=(28,28,1)))\n",
    "model.add(Conv2D(32, (5, 5), activation='relu', padding='same'))\n",
    "model.add(BatchNormalization(momentum=0.15))\n",
    "model.add(MaxPooling2D((2, 2)))\n",
    "model.add(Dropout(0.15))\n",
    "          \n",
    "model.add(Conv2D(64, (5, 5), activation='relu', padding='same'))\n",
    "model.add(Conv2D(64, (5, 5), activation='relu', padding='same'))\n",
    "model.add(BatchNormalization(momentum=0.15))\n",
    "model.add(MaxPooling2D((2, 2)))\n",
    "model.add(Dropout(0.25))\n",
    "          \n",
    "model.add(Flatten())\n",
    "model.add(Dense(128, activation = \"relu\"))\n",
    "model.add(Dropout(0.40))\n",
    "model.add(Dense(64, activation = \"relu\"))\n",
    "model.add(Dropout(0.40))\n",
    "model.add(Dense(10, activation = \"softmax\"))"
   ]
  },
  {
   "cell_type": "code",
   "execution_count": 47,
   "metadata": {
    "colab": {
     "base_uri": "https://localhost:8080/",
     "height": 697
    },
    "colab_type": "code",
    "id": "XojPTw_QCiqo",
    "outputId": "140c7075-0ecc-4c61-abc6-7af08f12b871"
   },
   "outputs": [
    {
     "name": "stdout",
     "output_type": "stream",
     "text": [
      "Model: \"sequential_3\"\n",
      "_________________________________________________________________\n",
      "Layer (type)                 Output Shape              Param #   \n",
      "=================================================================\n",
      "conv2d_9 (Conv2D)            (None, 28, 28, 32)        832       \n",
      "_________________________________________________________________\n",
      "conv2d_10 (Conv2D)           (None, 28, 28, 32)        25632     \n",
      "_________________________________________________________________\n",
      "batch_normalization_3 (Batch (None, 28, 28, 32)        128       \n",
      "_________________________________________________________________\n",
      "max_pooling2d_5 (MaxPooling2 (None, 14, 14, 32)        0         \n",
      "_________________________________________________________________\n",
      "dropout_9 (Dropout)          (None, 14, 14, 32)        0         \n",
      "_________________________________________________________________\n",
      "conv2d_11 (Conv2D)           (None, 14, 14, 64)        51264     \n",
      "_________________________________________________________________\n",
      "conv2d_12 (Conv2D)           (None, 14, 14, 64)        102464    \n",
      "_________________________________________________________________\n",
      "batch_normalization_4 (Batch (None, 14, 14, 64)        256       \n",
      "_________________________________________________________________\n",
      "max_pooling2d_6 (MaxPooling2 (None, 7, 7, 64)          0         \n",
      "_________________________________________________________________\n",
      "dropout_10 (Dropout)         (None, 7, 7, 64)          0         \n",
      "_________________________________________________________________\n",
      "flatten_3 (Flatten)          (None, 3136)              0         \n",
      "_________________________________________________________________\n",
      "dense_7 (Dense)              (None, 128)               401536    \n",
      "_________________________________________________________________\n",
      "dropout_11 (Dropout)         (None, 128)               0         \n",
      "_________________________________________________________________\n",
      "dense_8 (Dense)              (None, 64)                8256      \n",
      "_________________________________________________________________\n",
      "dropout_12 (Dropout)         (None, 64)                0         \n",
      "_________________________________________________________________\n",
      "dense_9 (Dense)              (None, 10)                650       \n",
      "=================================================================\n",
      "Total params: 591,018\n",
      "Trainable params: 590,826\n",
      "Non-trainable params: 192\n",
      "_________________________________________________________________\n"
     ]
    }
   ],
   "source": [
    "model.summary()"
   ]
  },
  {
   "cell_type": "markdown",
   "metadata": {
    "colab_type": "text",
    "id": "LCZvMeOECiqr"
   },
   "source": [
    "# 9.2 Complie and Train\n",
    "\n",
    "In simpler terms, ***optimizers*** shape and mold your model into its most accurate possible form by futzing with the weights. The loss function is the guide to the terrain, telling the optimizer when it’s moving in the right or wrong direction"
   ]
  },
  {
   "cell_type": "code",
   "execution_count": 0,
   "metadata": {
    "colab": {},
    "colab_type": "code",
    "id": "iF8c4pCpCiqs"
   },
   "outputs": [],
   "source": [
    "model.compile(optimizer=\"adam\", loss=['categorical_crossentropy'], metrics=['accuracy'])"
   ]
  },
  {
   "cell_type": "markdown",
   "metadata": {},
   "source": [
    "A ***callback*** is a set of functions to be applied at given stages of the training procedure. You can use callbacks to get a view on internal states and statistics of the model during training.\n",
    "Keras callbacks can help you fix bugs more quickly, and can help you build better models. They can help you visualize how your model’s training is going, and can even help prevent overfitting by implementing early stopping or customizing the learning rate on each iteration.\n",
    "\n",
    "Here we use 2 callback functions:\n",
    "\n",
    "***Early Stopping*** - One technique to reduce overfitting in neural networks is to use early stopping. Early stopping prevents overtraining of the model by terminating the training process if it’s not really learning anything.\n",
    "\n",
    "***Learning Rate Reduction*** - The learning rate determines the size of the steps taken during the gradient descent process.\n",
    "With the ***ReduceLROnPlateau*** function from Keras.callbacks, i choose to reduce the LR by half if the accuracy is not improved after 3 epochs."
   ]
  },
  {
   "cell_type": "code",
   "execution_count": 0,
   "metadata": {
    "colab": {},
    "colab_type": "code",
    "id": "6uQviFmmCiqv"
   },
   "outputs": [],
   "source": [
    "# Set a learning rate annealer. Learning rate will be half after 3 epochs if accuracy is not increased\n",
    "learning_rate_reduction = ReduceLROnPlateau(monitor='val_accuracy', \n",
    "                                            patience=3, \n",
    "                                            verbose=1,\n",
    "                                            factor=0.5, \n",
    "                                            min_lr=0.00001)"
   ]
  },
  {
   "cell_type": "markdown",
   "metadata": {},
   "source": [
    "### What is the Difference Between a Batch and an Epoch in a Neural Network?\n",
    "\n",
    "The training process will run for a fixed number of iterations through the dataset called epochs, that we must specify using the epochs argument. We must also set the number of dataset rows that are considered before the model weights are updated within each epoch, called the batch size and set using the batch_size argument."
   ]
  },
  {
   "cell_type": "code",
   "execution_count": 0,
   "metadata": {
    "colab": {},
    "colab_type": "code",
    "id": "EnPD0mc6Ciqz"
   },
   "outputs": [],
   "source": [
    "batch_size=75\n",
    "epochs = 50\n",
    "#num_classes = 10\n",
    "#learning_rate = 0.001"
   ]
  },
  {
   "cell_type": "code",
   "execution_count": 53,
   "metadata": {
    "colab": {
     "base_uri": "https://localhost:8080/",
     "height": 1000
    },
    "colab_type": "code",
    "id": "jjAMYZzBCiq3",
    "outputId": "f2652ca9-7d7a-4d8b-f9bc-9af1d6f8751e"
   },
   "outputs": [
    {
     "name": "stdout",
     "output_type": "stream",
     "text": [
      "Train on 54000 samples, validate on 6000 samples\n",
      "Epoch 1/50\n",
      "54000/54000 [==============================] - 549s 10ms/step - loss: 0.2827 - accuracy: 0.9133 - val_loss: 0.0465 - val_accuracy: 0.9858\n",
      "\n",
      "Epoch 00001: val_loss improved from inf to 0.04651, saving model to model.h5\n",
      "Epoch 2/50\n",
      "54000/54000 [==============================] - 551s 10ms/step - loss: 0.0808 - accuracy: 0.9799 - val_loss: 0.0269 - val_accuracy: 0.9933\n",
      "\n",
      "Epoch 00002: val_loss improved from 0.04651 to 0.02691, saving model to model.h5\n",
      "Epoch 3/50\n",
      "54000/54000 [==============================] - 547s 10ms/step - loss: 0.0535 - accuracy: 0.9872 - val_loss: 0.0217 - val_accuracy: 0.9938\n",
      "\n",
      "Epoch 00003: val_loss improved from 0.02691 to 0.02167, saving model to model.h5\n",
      "Epoch 4/50\n",
      "54000/54000 [==============================] - 551s 10ms/step - loss: 0.0429 - accuracy: 0.9888 - val_loss: 0.0207 - val_accuracy: 0.9942\n",
      "\n",
      "Epoch 00004: val_loss improved from 0.02167 to 0.02072, saving model to model.h5\n",
      "Epoch 5/50\n",
      "54000/54000 [==============================] - 552s 10ms/step - loss: 0.0400 - accuracy: 0.9903 - val_loss: 0.0275 - val_accuracy: 0.9930\n",
      "\n",
      "Epoch 00005: val_loss did not improve from 0.02072\n",
      "Epoch 6/50\n",
      "54000/54000 [==============================] - 554s 10ms/step - loss: 0.0348 - accuracy: 0.9912 - val_loss: 0.0239 - val_accuracy: 0.9935\n",
      "\n",
      "Epoch 00006: val_loss did not improve from 0.02072\n",
      "Epoch 7/50\n",
      "54000/54000 [==============================] - 557s 10ms/step - loss: 0.0319 - accuracy: 0.9919 - val_loss: 0.0162 - val_accuracy: 0.9957\n",
      "\n",
      "Epoch 00007: val_loss improved from 0.02072 to 0.01616, saving model to model.h5\n",
      "Epoch 8/50\n",
      "54000/54000 [==============================] - 555s 10ms/step - loss: 0.0294 - accuracy: 0.9929 - val_loss: 0.0161 - val_accuracy: 0.9953\n",
      "\n",
      "Epoch 00008: val_loss improved from 0.01616 to 0.01609, saving model to model.h5\n",
      "Epoch 9/50\n",
      "54000/54000 [==============================] - 553s 10ms/step - loss: 0.0269 - accuracy: 0.9936 - val_loss: 0.0179 - val_accuracy: 0.9960\n",
      "\n",
      "Epoch 00009: val_loss did not improve from 0.01609\n",
      "Epoch 10/50\n",
      "54000/54000 [==============================] - 552s 10ms/step - loss: 0.0222 - accuracy: 0.9945 - val_loss: 0.0153 - val_accuracy: 0.9963\n",
      "\n",
      "Epoch 00010: val_loss improved from 0.01609 to 0.01529, saving model to model.h5\n",
      "Epoch 11/50\n",
      "54000/54000 [==============================] - 552s 10ms/step - loss: 0.0239 - accuracy: 0.9939 - val_loss: 0.0185 - val_accuracy: 0.9947\n",
      "\n",
      "Epoch 00011: val_loss did not improve from 0.01529\n",
      "Epoch 12/50\n",
      "54000/54000 [==============================] - 551s 10ms/step - loss: 0.0230 - accuracy: 0.9940 - val_loss: 0.0159 - val_accuracy: 0.9963\n",
      "\n",
      "Epoch 00012: val_loss did not improve from 0.01529\n",
      "Epoch 13/50\n",
      "54000/54000 [==============================] - 555s 10ms/step - loss: 0.0219 - accuracy: 0.9949 - val_loss: 0.0165 - val_accuracy: 0.9967\n",
      "\n",
      "Epoch 00013: val_loss did not improve from 0.01529\n",
      "Epoch 14/50\n",
      "54000/54000 [==============================] - 549s 10ms/step - loss: 0.0176 - accuracy: 0.9952 - val_loss: 0.0197 - val_accuracy: 0.9952\n",
      "\n",
      "Epoch 00014: val_loss did not improve from 0.01529\n",
      "Epoch 15/50\n",
      "54000/54000 [==============================] - 551s 10ms/step - loss: 0.0172 - accuracy: 0.9955 - val_loss: 0.0184 - val_accuracy: 0.9963\n",
      "\n",
      "Epoch 00015: val_loss did not improve from 0.01529\n",
      "Epoch 16/50\n",
      "54000/54000 [==============================] - 551s 10ms/step - loss: 0.0151 - accuracy: 0.9963 - val_loss: 0.0174 - val_accuracy: 0.9963\n",
      "\n",
      "Epoch 00016: val_loss did not improve from 0.01529\n",
      "Epoch 17/50\n",
      "54000/54000 [==============================] - 552s 10ms/step - loss: 0.0140 - accuracy: 0.9964 - val_loss: 0.0193 - val_accuracy: 0.9963\n",
      "\n",
      "Epoch 00017: val_loss did not improve from 0.01529\n",
      "Epoch 18/50\n",
      "54000/54000 [==============================] - 552s 10ms/step - loss: 0.0155 - accuracy: 0.9960 - val_loss: 0.0175 - val_accuracy: 0.9963\n",
      "\n",
      "Epoch 00018: val_loss did not improve from 0.01529\n",
      "Epoch 19/50\n",
      "54000/54000 [==============================] - 552s 10ms/step - loss: 0.0142 - accuracy: 0.9965 - val_loss: 0.0152 - val_accuracy: 0.9970\n",
      "\n",
      "Epoch 00019: val_loss improved from 0.01529 to 0.01524, saving model to model.h5\n",
      "Epoch 20/50\n",
      "54000/54000 [==============================] - 560s 10ms/step - loss: 0.0127 - accuracy: 0.9965 - val_loss: 0.0222 - val_accuracy: 0.9970\n",
      "\n",
      "Epoch 00020: val_loss did not improve from 0.01524\n",
      "Epoch 21/50\n",
      "54000/54000 [==============================] - 558s 10ms/step - loss: 0.0157 - accuracy: 0.9964 - val_loss: 0.0239 - val_accuracy: 0.9965\n",
      "\n",
      "Epoch 00021: val_loss did not improve from 0.01524\n",
      "Epoch 22/50\n",
      "54000/54000 [==============================] - 557s 10ms/step - loss: 0.0130 - accuracy: 0.9966 - val_loss: 0.0203 - val_accuracy: 0.9968\n",
      "\n",
      "Epoch 00022: val_loss did not improve from 0.01524\n",
      "Epoch 23/50\n",
      "54000/54000 [==============================] - 556s 10ms/step - loss: 0.0122 - accuracy: 0.9971 - val_loss: 0.0212 - val_accuracy: 0.9967\n",
      "\n",
      "Epoch 00023: val_loss did not improve from 0.01524\n",
      "Epoch 24/50\n",
      "54000/54000 [==============================] - 557s 10ms/step - loss: 0.0124 - accuracy: 0.9968 - val_loss: 0.0243 - val_accuracy: 0.9967\n",
      "\n",
      "Epoch 00024: val_loss did not improve from 0.01524\n",
      "Epoch 25/50\n",
      "54000/54000 [==============================] - 553s 10ms/step - loss: 0.0114 - accuracy: 0.9975 - val_loss: 0.0293 - val_accuracy: 0.9960\n",
      "\n",
      "Epoch 00025: val_loss did not improve from 0.01524\n",
      "Epoch 26/50\n",
      "54000/54000 [==============================] - 559s 10ms/step - loss: 0.0092 - accuracy: 0.9974 - val_loss: 0.0207 - val_accuracy: 0.9967\n",
      "\n",
      "Epoch 00026: val_loss did not improve from 0.01524\n",
      "Epoch 27/50\n",
      "54000/54000 [==============================] - 558s 10ms/step - loss: 0.0100 - accuracy: 0.9975 - val_loss: 0.0225 - val_accuracy: 0.9973\n",
      "\n",
      "Epoch 00027: val_loss did not improve from 0.01524\n",
      "Epoch 28/50\n",
      "54000/54000 [==============================] - 559s 10ms/step - loss: 0.0098 - accuracy: 0.9978 - val_loss: 0.0337 - val_accuracy: 0.9968\n",
      "\n",
      "Epoch 00028: val_loss did not improve from 0.01524\n",
      "Epoch 29/50\n",
      "54000/54000 [==============================] - 559s 10ms/step - loss: 0.0137 - accuracy: 0.9970 - val_loss: 0.0259 - val_accuracy: 0.9972\n",
      "\n",
      "Epoch 00029: val_loss did not improve from 0.01524\n",
      "Epoch 00029: early stopping\n"
     ]
    }
   ],
   "source": [
    "filepath = \"model.h5\"\n",
    "\n",
    "earlystopper = EarlyStopping(patience=10, verbose=1)\n",
    "\n",
    "checkpoint = ModelCheckpoint(filepath, monitor='val_loss', verbose=1, \n",
    "                             save_best_only=True, mode='min')\n",
    "\n",
    "callbacks_list = [earlystopper, checkpoint]\n",
    "\n",
    "history = model.fit(X_train, y_train, batch_size = batch_size , epochs = epochs, \n",
    "                              validation_data=(X_val, y_val),\n",
    "                              verbose=1,\n",
    "                              callbacks=callbacks_list)"
   ]
  },
  {
   "cell_type": "markdown",
   "metadata": {
    "colab_type": "text",
    "id": "LEDazQ7zCiq6"
   },
   "source": [
    "## 9.3 Visulizing Accuracy and Loss"
   ]
  },
  {
   "cell_type": "code",
   "execution_count": 54,
   "metadata": {
    "colab": {
     "base_uri": "https://localhost:8080/",
     "height": 573
    },
    "colab_type": "code",
    "id": "MThPHxHwCiq6",
    "outputId": "02a73915-6997-463a-9e37-9e2c89514c19"
   },
   "outputs": [
    {
     "data": {
      "image/png": "[encoded data removed]",
      "text/plain": [
       "<Figure size 432x288 with 1 Axes>"
      ]
     },
     "metadata": {
      "needs_background": "light",
      "tags": []
     },
     "output_type": "display_data"
    },
    {
     "data": {
      "image/png": "[encoded data removed]",
      "text/plain": [
       "<Figure size 432x288 with 1 Axes>"
      ]
     },
     "metadata": {
      "needs_background": "light",
      "tags": []
     },
     "output_type": "display_data"
    }
   ],
   "source": [
    "plt.plot(history.history['accuracy'])\n",
    "plt.plot(history.history['val_accuracy'])\n",
    "plt.title('Model accuracy')\n",
    "plt.ylabel('Accuracy')\n",
    "plt.xlabel('Epoch')\n",
    "plt.legend(['Train', 'Validation'], loc='upper left')\n",
    "plt.show()\n",
    "\n",
    "# Plot training & validation loss values\n",
    "plt.plot(history.history['loss'])\n",
    "plt.plot(history.history['val_loss'])\n",
    "plt.title('Model loss')\n",
    "plt.ylabel('Loss')\n",
    "plt.xlabel('Epoch')\n",
    "plt.legend(['Train', 'Validation'], loc='upper left')\n",
    "plt.show()"
   ]
  },
  {
   "cell_type": "code",
   "execution_count": 0,
   "metadata": {
    "colab": {},
    "colab_type": "code",
    "id": "j3a6vazECiq9"
   },
   "outputs": [],
   "source": [
    "# Predict the values from the validation dataset\n",
    "Y_pred = model.predict(X_val)\n",
    "# Convert predictions classes to one hot vectors \n",
    "Y_pred_classes = np.argmax(Y_pred,axis = 1) \n",
    "# Convert validation observations to one hot vectors\n",
    "Y_true = np.argmax(y_val,axis = 1) "
   ]
  },
  {
   "cell_type": "code",
   "execution_count": 56,
   "metadata": {
    "colab": {
     "base_uri": "https://localhost:8080/",
     "height": 513
    },
    "colab_type": "code",
    "id": "9fXiggnTCirA",
    "outputId": "6f236127-7c5f-4bd7-dfcb-43617b7c10ef"
   },
   "outputs": [
    {
     "data": {
      "image/png": "[encoded data removed]",
      "text/plain": [
       "<Figure size 576x576 with 2 Axes>"
      ]
     },
     "metadata": {
      "needs_background": "light",
      "tags": []
     },
     "output_type": "display_data"
    }
   ],
   "source": [
    "'''confusion matrix'''\n",
    "# compute the confusion matrix\n",
    "confusion_mtx = confusion_matrix(Y_true, Y_pred_classes) \n",
    "# plot the confusion matrix\n",
    "f,ax = plt.subplots(figsize=(8, 8))\n",
    "sns.heatmap(confusion_mtx, annot=True, linewidths=0.01,cmap=\"Greens\",linecolor=\"gray\", fmt= '.1f',ax=ax)\n",
    "plt.xlabel(\"Predicted Label\")\n",
    "plt.ylabel(\"True Label\")\n",
    "plt.title(\"Confusion Matrix\")\n",
    "plt.show()"
   ]
  },
  {
   "cell_type": "markdown",
   "metadata": {
    "colab_type": "text",
    "id": "nP-RZOjNCirE"
   },
   "source": [
    "## 9.4 Making Predictions"
   ]
  },
  {
   "cell_type": "code",
   "execution_count": 0,
   "metadata": {
    "colab": {},
    "colab_type": "code",
    "id": "xbh7XQ53CirE"
   },
   "outputs": [],
   "source": [
    "'''predict results'''\n",
    "pred_dig = model.predict(dig_img)\n",
    "dig_kannadaMnist['pred'] = np.argmax(pred_dig, axis=1)\n",
    "\n",
    "#'''select the indix with the maximum probability'''\n",
    "#results = np.argmax(results,axis = 1)"
   ]
  },
  {
   "cell_type": "code",
   "execution_count": 58,
   "metadata": {
    "colab": {
     "base_uri": "https://localhost:8080/",
     "height": 136
    },
    "colab_type": "code",
    "id": "A7QcHqOjCirI",
    "outputId": "0f7c5882-5c05-49e9-ebcc-2ac49115c929"
   },
   "outputs": [
    {
     "name": "stdout",
     "output_type": "stream",
     "text": [
      "Number of errors is  1894\n",
      "The indices are  Int64Index([   17,    23,    27,    37,    57,    67,    87,    97,   106,\n",
      "              117,\n",
      "            ...\n",
      "            10217, 10218, 10219, 10221, 10224, 10226, 10227, 10228, 10229,\n",
      "            10234],\n",
      "           dtype='int64', length=1894)\n"
     ]
    }
   ],
   "source": [
    "# look at those that were classified wrongly in X_dig\n",
    "dig_kannadaMnist['correct'] = dig_kannadaMnist['label'] - dig_kannadaMnist['pred']\n",
    "errors = dig_kannadaMnist[dig_kannadaMnist['correct'] != 0]\n",
    "error_list = errors.index\n",
    "print('Number of errors is ', len(errors))\n",
    "print('The indices are ', error_list)"
   ]
  },
  {
   "cell_type": "markdown",
   "metadata": {
    "colab_type": "text",
    "id": "TxbD1UjPCirM"
   },
   "source": [
    "## 9.4.1 Some of the wrong predictions for dig dataset:"
   ]
  },
  {
   "cell_type": "markdown",
   "metadata": {
    "colab_type": "text",
    "id": "TMUEV09mCirM"
   },
   "source": [
    "### Further Investigation..\n",
    "We will go on to see some of the misclassified images.We will simply inspect them to understand if it was a tough one to predict or not.Let's see..."
   ]
  },
  {
   "cell_type": "code",
   "execution_count": 59,
   "metadata": {
    "colab": {
     "base_uri": "https://localhost:8080/",
     "height": 388
    },
    "colab_type": "code",
    "id": "jBOWY2i4CirN",
    "outputId": "b3ef6d73-d20b-430b-b158-6cd949b8e900"
   },
   "outputs": [
    {
     "data": {
      "image/png": "[encoded data removed]",
      "text/plain": [
       "<Figure size 1080x720 with 40 Axes>"
      ]
     },
     "metadata": {
      "needs_background": "light",
      "tags": []
     },
     "output_type": "display_data"
    }
   ],
   "source": [
    "# plot images of some of the wrong predictions for X_dig\n",
    "plt.figure(figsize=(15,10))\n",
    "for i in range(40):\n",
    "    plt.subplot(6, 10, i+1)\n",
    "    plt.imshow(dig_img[error_list[i]].reshape((28,28)),cmap=plt.cm.binary)\n",
    "    plt.title(\"true={}\\npredict={}\".format(dig_kannadaMnist['label'][error_list[i]], \n",
    "                                           dig_kannadaMnist['pred'][error_list[i]]), y=0.9)\n",
    "    plt.axis('off')\n",
    "plt.subplots_adjust(wspace=0.3, hspace=-0.1)\n",
    "plt.show()"
   ]
  },
  {
   "cell_type": "markdown",
   "metadata": {},
   "source": [
    "Looking at those that were predicted wrongly, there are quite several difficult and ambiguous ones."
   ]
  },
  {
   "cell_type": "markdown",
   "metadata": {},
   "source": [
    "## 9.4.2 Correct Predictions"
   ]
  },
  {
   "cell_type": "markdown",
   "metadata": {},
   "source": [
    "**Some examples of predictions made**"
   ]
  },
  {
   "cell_type": "code",
   "execution_count": 60,
   "metadata": {
    "colab": {
     "base_uri": "https://localhost:8080/",
     "height": 34
    },
    "colab_type": "code",
    "id": "xoQ4qcimCirP",
    "outputId": "a3e86703-a8c1-4940-f2d8-de2849dfd0d1"
   },
   "outputs": [
    {
     "name": "stdout",
     "output_type": "stream",
     "text": [
      "(5000, 10)\n"
     ]
    }
   ],
   "source": [
    "# predict on test set\n",
    "predictions = model.predict(X_test)\n",
    "print(predictions.shape)"
   ]
  },
  {
   "cell_type": "code",
   "execution_count": 0,
   "metadata": {
    "colab": {},
    "colab_type": "code",
    "id": "BwphGHjhCirT"
   },
   "outputs": [],
   "source": [
    "# set the predicted labels to be the one with the highest probability\n",
    "predicted_labels = np.argmax(predictions, axis=1)"
   ]
  },
  {
   "cell_type": "code",
   "execution_count": 65,
   "metadata": {
    "colab": {
     "base_uri": "https://localhost:8080/",
     "height": 344
    },
    "colab_type": "code",
    "id": "BUIYheF1CirX",
    "outputId": "d79909a4-95ea-4320-c373-0a76a42532cb"
   },
   "outputs": [
    {
     "data": {
      "image/png": "[encoded data removed]",
      "text/plain": [
       "<Figure size 1080x432 with 40 Axes>"
      ]
     },
     "metadata": {
      "needs_background": "light",
      "tags": []
     },
     "output_type": "display_data"
    }
   ],
   "source": [
    "# look at some of the predictions for test_X\n",
    "plt.figure(figsize=(15,6))\n",
    "for i in range(40):  \n",
    "    plt.subplot(4, 10, i+1)\n",
    "    plt.imshow(X_test[i].reshape((28,28)),cmap=plt.cm.binary)\n",
    "    plt.title(\"predict=%d\" % predicted_labels[i],y=0.9)\n",
    "    plt.axis('off')\n",
    "plt.subplots_adjust(wspace=0.3, hspace=-0.1)\n",
    "plt.show()"
   ]
  },
  {
   "cell_type": "markdown",
   "metadata": {
    "colab": {},
    "colab_type": "code",
    "id": "1QxYg2F3Cirb"
   },
   "source": [
    "**My eyeball reading of the prediction is:**\n",
    "\n",
    "3 0 2 6 7 7 1 9 3 4\n",
    "\n",
    "8 8 1 7 8 1 5 1 5 9 \n",
    "\n",
    "3 7 6 0 2 0 8 7 0 0 \n",
    "\n",
    "8 9 2 3 2 4 6 0 7 8\n",
    "\n",
    "**Looks reasonable.**\n",
    "\n",
    "***I am a kannadiga(Native kannada speaker) and I am fluent in reading, writing and speaking in this language***\n"
   ]
  },
  {
   "cell_type": "markdown",
   "metadata": {
    "colab_type": "text",
    "id": "-PQJSUClCirp"
   },
   "source": [
    "# 10.Conclusion\n",
    "\n",
    "The above model works pretty well on the traing, validation and test dataset. The Notebook is designed in such a way that it could be easily understood by a Newbie(beginner). I believe that I have covered and explained all the concepts of Convolutional Neural Network. \n",
    "\n",
    "Further, the model can be applied to a whole new image which is not previously seen/learnt by the model"
   ]
  },
  {
   "cell_type": "markdown",
   "metadata": {},
   "source": [
    "# 11. Author\n",
    "\n",
    "This notebook was created by ***Indupriya Kompi Sadasivappa***, currently enrolled student at ***Northeastern University, Boston*** as a contribution to ***Bantaba Projects*** in the month of ***April,2020*** under the guidance and supervision of ***Nicholas Brown***, Assistant Teaching Professor,  Multidisciplinary Graduate Engineering Programs at ***Northeastern University, Boston***\n",
    "\n",
    "kompisadasivappa.i@husky.neu.edu\n",
    "\n",
    "Bearing **NUID 001051831**\n",
    "\n",
    "![title](images/tq.gif)\n"
   ]
  },
  {
   "cell_type": "markdown",
   "metadata": {
    "colab_type": "text",
    "id": "ZaltW-jpCirq"
   },
   "source": [
    "# 11.Citation\n",
    "\n",
    "1. https://www.kaggle.com/c/Kannada-MNIST\n",
    "2. https://www.kaggle.com/kaushal2896/kannada-mnist-using-cnn/notebook\n",
    "3. https://www.kaggle.com/shahules/indian-way-to-learn-cnn\n",
    "4. https://towardsdatascience.com/\n",
    "5. Picture are taken from https://www.google.com/imghp?hl=en, a few of the images/giphys are snipped from    https://towardsdatascience.com/\n"
   ]
  },
  {
   "cell_type": "markdown",
   "metadata": {
    "colab_type": "text",
    "id": "vdp0rf0OCirr"
   },
   "source": [
    "# 12.Licensing\n",
    "Copyright 2020 Indupriya Kompi Sadasivappa\n",
    "\n",
    "Permission is hereby granted, free of charge, to any person obtaining a copy of this software and associated documentation files (the \"Software\"), to deal in the Software without restriction, including without limitation the rights to use, copy, modify, merge, publish, distribute, sublicense, and/or sell copies of the Software, and to permit persons to whom the Software is furnished to do so, subject to the following conditions:\n",
    "\n",
    "The above copyright notice and this permission notice shall be included in all copies or substantial portions of the Software.\n",
    "\n",
    "THE SOFTWARE IS PROVIDED \"AS IS\", WITHOUT WARRANTY OF ANY KIND, EXPRESS OR IMPLIED, INCLUDING BUT NOT LIMITED TO THE WARRANTIES OF MERCHANTABILITY, FITNESS FOR A PARTICULAR PURPOSE AND NONINFRINGEMENT. IN NO EVENT SHALL THE AUTHORS OR COPYRIGHT HOLDERS BE LIABLE FOR ANY CLAIM, DAMAGES OR OTHER LIABILITY, WHETHER IN AN ACTION OF CONTRACT, TORT OR OTHERWISE, ARISING FROM, OUT OF OR IN CONNECTION WITH THE SOFTWARE OR THE USE OR OTHER DEALINGS IN THE SOFTWARE."
   ]
  }
 ],
 "metadata": {
  "colab": {
   "name": "Untitled1.ipynb",
   "provenance": [],
   "toc_visible": true
  },
  "kernelspec": {
   "display_name": "Python 3",
   "language": "python",
   "name": "python3"
  },
  "language_info": {
   "codemirror_mode": {
    "name": "ipython",
    "version": 3
   },
   "file_extension": ".py",
   "mimetype": "text/x-python",
   "name": "python",
   "nbconvert_exporter": "python",
   "pygments_lexer": "ipython3",
   "version": "3.7.6"
  }
 },
 "nbformat": 4,
 "nbformat_minor": 1
}
